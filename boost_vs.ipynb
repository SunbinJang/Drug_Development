{
 "cells": [
  {
   "cell_type": "code",
   "execution_count": 7,
   "id": "878e9289",
   "metadata": {},
   "outputs": [],
   "source": [
    "import pandas as pd\n",
    "import numpy as np\n",
    "import optuna\n",
    "import matplotlib.pyplot as plt\n",
    "\n",
    "from rdkit import Chem\n",
    "from mordred import Calculator, descriptors\n",
    "from sklearn.impute import SimpleImputer\n",
    "from sklearn.model_selection import KFold, cross_val_score\n",
    "from sklearn.metrics import mean_squared_error\n",
    "from sklearn.preprocessing import StandardScaler\n",
    "\n",
    "from sklearn.ensemble import GradientBoostingRegressor, HistGradientBoostingRegressor\n",
    "from xgboost import XGBRegressor\n",
    "from lightgbm import LGBMRegressor\n",
    "from catboost import CatBoostRegressor\n",
    "from sklearn.metrics import mean_squared_error"
   ]
  },
  {
   "cell_type": "code",
   "execution_count": 8,
   "id": "255765d4",
   "metadata": {},
   "outputs": [
    {
     "name": "stderr",
     "output_type": "stream",
     "text": [
      " 33%|███▎      | 556/1681 [00:04<00:07, 148.77it/s]"
     ]
    },
    {
     "name": "stdout",
     "output_type": "stream",
     "text": [
      "c:\\Users\\sbjan\\miniconda3\\envs\\boost_env\\lib\\site-packages\\numpy\\core\\fromnumeric.py:86: RuntimeWarning: overflow encountered in reduce\n",
      "  return ufunc.reduce(obj, axis, dtype, out, **passkwargs)\n"
     ]
    },
    {
     "name": "stderr",
     "output_type": "stream",
     "text": [
      " 79%|███████▉  | 1335/1681 [00:09<00:01, 203.69it/s]"
     ]
    },
    {
     "name": "stdout",
     "output_type": "stream",
     "text": [
      "c:\\Users\\sbjan\\miniconda3\\envs\\boost_env\\lib\\site-packages\\numpy\\core\\fromnumeric.py:86: RuntimeWarning: overflow encountered in reduce\n",
      "  return ufunc.reduce(obj, axis, dtype, out, **passkwargs)\n"
     ]
    },
    {
     "name": "stderr",
     "output_type": "stream",
     "text": [
      "100%|██████████| 1681/1681 [00:11<00:00, 152.30it/s]\n"
     ]
    }
   ],
   "source": [
    "df = pd.read_csv(\"data/train.csv\")[['Canonical_Smiles', 'Inhibition']]\n",
    "df['mol'] = df['Canonical_Smiles'].apply(Chem.MolFromSmiles)\n",
    "df = df[df['mol'].notnull()].reset_index(drop=True)\n",
    "\n",
    "calc = Calculator(descriptors, ignore_3D=True)\n",
    "desc = calc.pandas(df['mol'])\n",
    "desc_numeric = desc.select_dtypes(include=[np.number])\n",
    "desc_numeric = desc_numeric.dropna(axis=1, how='all')\n",
    "imputer = SimpleImputer(strategy='median')\n",
    "desc_imputed_array = imputer.fit_transform(desc_numeric)\n",
    "desc_imputed = pd.DataFrame(desc_imputed_array, columns=desc_numeric.columns)\n",
    "desc_imputed = desc_imputed.clip(upper=1e6)\n",
    "\n",
    "X = desc_imputed\n",
    "y = df['Inhibition'].values\n",
    "cv = KFold(n_splits=5, shuffle=True, random_state=42)"
   ]
  },
  {
   "cell_type": "code",
   "execution_count": 9,
   "id": "8b34862b",
   "metadata": {},
   "outputs": [],
   "source": [
    "def tune_lgbm(trial):\n",
    "    import lightgbm as lgb\n",
    "    params = {\n",
    "        'objective': 'regression',\n",
    "        'metric': 'rmse',\n",
    "        'verbosity': -1,\n",
    "        'boosting_type': 'gbdt',\n",
    "        'learning_rate': trial.suggest_float(\"learning_rate\", 0.01, 0.3),\n",
    "        'n_estimators': trial.suggest_int(\"n_estimators\", 50, 300),\n",
    "        'num_leaves': trial.suggest_int(\"num_leaves\", 16, 64),\n",
    "        'max_depth': trial.suggest_int(\"max_depth\", 3, 10),\n",
    "        'min_data_in_leaf': trial.suggest_int(\"min_data_in_leaf\", 10, 50),\n",
    "        'min_gain_to_split': trial.suggest_float(\"min_gain_to_split\", 0.0, 1.0),\n",
    "        'feature_fraction': trial.suggest_float(\"feature_fraction\", 0.6, 1.0),\n",
    "        'bagging_fraction': trial.suggest_float(\"bagging_fraction\", 0.6, 1.0),\n",
    "        'bagging_freq': 1,\n",
    "        'lambda_l1': trial.suggest_float(\"lambda_l1\", 0.0, 1.0),\n",
    "        'lambda_l2': trial.suggest_float(\"lambda_l2\", 0.0, 1.0),\n",
    "        'random_state': 42,\n",
    "        'n_jobs': -1,\n",
    "    }\n",
    "    model = lgb.LGBMRegressor(**params)\n",
    "    score = cross_val_score(model, X, y, cv=cv, scoring='neg_root_mean_squared_error').mean()\n",
    "    return -score\n",
    "\n",
    "def tune_xgboost(trial):\n",
    "    import xgboost as xgb\n",
    "    params = {\n",
    "        'objective': 'reg:squarederror',\n",
    "        'tree_method': 'hist',\n",
    "        'learning_rate': trial.suggest_float('learning_rate', 0.01, 0.3),\n",
    "        'n_estimators': trial.suggest_int('n_estimators', 50, 300),\n",
    "        'max_depth': trial.suggest_int('max_depth', 3, 10),\n",
    "        'min_child_weight': trial.suggest_int('min_child_weight', 1, 10),\n",
    "        'subsample': trial.suggest_float('subsample', 0.6, 1.0),\n",
    "        'colsample_bytree': trial.suggest_float('colsample_bytree', 0.6, 1.0),\n",
    "        'reg_alpha': trial.suggest_float('reg_alpha', 0.0, 1.0),\n",
    "        'reg_lambda': trial.suggest_float('reg_lambda', 0.0, 1.0),\n",
    "        'random_state': 42,\n",
    "        'n_jobs': -1\n",
    "    }\n",
    "    model = xgb.XGBRegressor(**params)\n",
    "    score = cross_val_score(model, X, y, cv=cv, scoring='neg_root_mean_squared_error').mean()\n",
    "    return -score\n",
    "\n",
    "def tune_catboost(trial):\n",
    "    from catboost import CatBoostRegressor\n",
    "    params = {\n",
    "        'iterations': trial.suggest_int('iterations', 50, 300),\n",
    "        'learning_rate': trial.suggest_float('learning_rate', 0.01, 0.3),\n",
    "        'depth': trial.suggest_int('depth', 3, 10),\n",
    "        'l2_leaf_reg': trial.suggest_float('l2_leaf_reg', 0.0, 10.0),\n",
    "        'random_strength': trial.suggest_float('random_strength', 0.0, 1.0),\n",
    "        'bagging_temperature': trial.suggest_float('bagging_temperature', 0.0, 1.0),\n",
    "        'random_seed': 42,\n",
    "        'verbose': 0\n",
    "    }\n",
    "    model = CatBoostRegressor(**params)\n",
    "    score = cross_val_score(model, X, y, cv=cv, scoring='neg_root_mean_squared_error').mean()\n",
    "    return -score"
   ]
  },
  {
   "cell_type": "code",
   "execution_count": 10,
   "id": "6fea25b1",
   "metadata": {},
   "outputs": [
    {
     "name": "stderr",
     "output_type": "stream",
     "text": [
      "[I 2025-07-03 10:14:46,599] A new study created in memory with name: no-name-f2e54895-2098-4cf1-8fb7-4122c2999a4f\n"
     ]
    },
    {
     "name": "stdout",
     "output_type": "stream",
     "text": [
      "Starting tuning for LightGBM...\n"
     ]
    },
    {
     "name": "stderr",
     "output_type": "stream",
     "text": [
      "[I 2025-07-03 10:14:48,543] Trial 0 finished with value: 25.59196732532416 and parameters: {'learning_rate': 0.19655262875090743, 'n_estimators': 196, 'num_leaves': 59, 'max_depth': 9, 'min_data_in_leaf': 40, 'min_gain_to_split': 0.5514719979101593, 'feature_fraction': 0.6274323215906309, 'bagging_fraction': 0.6397007969666909, 'lambda_l1': 0.2920775038571226, 'lambda_l2': 0.8962562880180325}. Best is trial 0 with value: 25.59196732532416.\n",
      "[I 2025-07-03 10:14:51,125] Trial 1 finished with value: 24.423753948646983 and parameters: {'learning_rate': 0.07009957129211901, 'n_estimators': 188, 'num_leaves': 51, 'max_depth': 10, 'min_data_in_leaf': 41, 'min_gain_to_split': 0.7902643609301883, 'feature_fraction': 0.7150095264440374, 'bagging_fraction': 0.8642465319571543, 'lambda_l1': 0.25280344516616127, 'lambda_l2': 0.12558206498882507}. Best is trial 1 with value: 24.423753948646983.\n",
      "[I 2025-07-03 10:14:51,960] Trial 2 finished with value: 25.902947389907855 and parameters: {'learning_rate': 0.2417909028536263, 'n_estimators': 96, 'num_leaves': 44, 'max_depth': 4, 'min_data_in_leaf': 43, 'min_gain_to_split': 0.8408415908058687, 'feature_fraction': 0.6940877907070209, 'bagging_fraction': 0.622692212507484, 'lambda_l1': 0.2559634108026837, 'lambda_l2': 0.7673540063624468}. Best is trial 1 with value: 24.423753948646983.\n",
      "[I 2025-07-03 10:14:53,993] Trial 3 finished with value: 25.41321144644875 and parameters: {'learning_rate': 0.18000634377964728, 'n_estimators': 254, 'num_leaves': 60, 'max_depth': 6, 'min_data_in_leaf': 47, 'min_gain_to_split': 0.20327564339532733, 'feature_fraction': 0.6660776051809115, 'bagging_fraction': 0.8330651504467295, 'lambda_l1': 0.009400545866652177, 'lambda_l2': 0.09393160789726507}. Best is trial 1 with value: 24.423753948646983.\n",
      "[I 2025-07-03 10:14:54,836] Trial 4 finished with value: 23.974669729632108 and parameters: {'learning_rate': 0.08843091994641158, 'n_estimators': 113, 'num_leaves': 16, 'max_depth': 3, 'min_data_in_leaf': 35, 'min_gain_to_split': 0.9453107846019975, 'feature_fraction': 0.9279072385055392, 'bagging_fraction': 0.8716828828575106, 'lambda_l1': 0.2974140630244919, 'lambda_l2': 0.710194238405652}. Best is trial 4 with value: 23.974669729632108.\n",
      "[I 2025-07-03 10:14:57,077] Trial 5 finished with value: 25.884336853710654 and parameters: {'learning_rate': 0.2688257562120742, 'n_estimators': 180, 'num_leaves': 41, 'max_depth': 9, 'min_data_in_leaf': 43, 'min_gain_to_split': 0.3204386771785369, 'feature_fraction': 0.7154677384742477, 'bagging_fraction': 0.8293411953496518, 'lambda_l1': 0.4274842234857046, 'lambda_l2': 0.16717845665747322}. Best is trial 4 with value: 23.974669729632108.\n",
      "[I 2025-07-03 10:14:59,735] Trial 6 finished with value: 24.918734937287404 and parameters: {'learning_rate': 0.11846134523216954, 'n_estimators': 293, 'num_leaves': 41, 'max_depth': 5, 'min_data_in_leaf': 17, 'min_gain_to_split': 0.9544610690934958, 'feature_fraction': 0.7253039391591714, 'bagging_fraction': 0.7295602363622729, 'lambda_l1': 0.4032805082518731, 'lambda_l2': 0.8274835186123061}. Best is trial 4 with value: 23.974669729632108.\n",
      "[I 2025-07-03 10:15:02,314] Trial 7 finished with value: 25.01047646044278 and parameters: {'learning_rate': 0.1956109151711024, 'n_estimators': 148, 'num_leaves': 50, 'max_depth': 10, 'min_data_in_leaf': 24, 'min_gain_to_split': 0.13928112505429868, 'feature_fraction': 0.7081220856679638, 'bagging_fraction': 0.8299987177240961, 'lambda_l1': 0.3014005347344747, 'lambda_l2': 0.6322493336650481}. Best is trial 4 with value: 23.974669729632108.\n",
      "[I 2025-07-03 10:15:04,664] Trial 8 finished with value: 25.13158427304237 and parameters: {'learning_rate': 0.25975574490042536, 'n_estimators': 212, 'num_leaves': 32, 'max_depth': 9, 'min_data_in_leaf': 10, 'min_gain_to_split': 0.0859475440398434, 'feature_fraction': 0.6475981587445411, 'bagging_fraction': 0.9376933266362764, 'lambda_l1': 0.30557374260888415, 'lambda_l2': 0.6574054682256736}. Best is trial 4 with value: 23.974669729632108.\n",
      "[I 2025-07-03 10:15:06,702] Trial 9 finished with value: 23.952800285497837 and parameters: {'learning_rate': 0.02999857667577964, 'n_estimators': 217, 'num_leaves': 37, 'max_depth': 6, 'min_data_in_leaf': 26, 'min_gain_to_split': 0.4523065285312763, 'feature_fraction': 0.617383099215611, 'bagging_fraction': 0.6205451953994305, 'lambda_l1': 0.07644978171220251, 'lambda_l2': 0.1419136890423266}. Best is trial 9 with value: 23.952800285497837.\n",
      "[I 2025-07-03 10:15:07,988] Trial 10 finished with value: 24.806418721994593 and parameters: {'learning_rate': 0.01005903598548159, 'n_estimators': 63, 'num_leaves': 26, 'max_depth': 7, 'min_data_in_leaf': 28, 'min_gain_to_split': 0.44770861254064753, 'feature_fraction': 0.8386167074871219, 'bagging_fraction': 0.724083465978727, 'lambda_l1': 0.8319300869100907, 'lambda_l2': 0.33823751042760253}. Best is trial 9 with value: 23.952800285497837.\n",
      "[I 2025-07-03 10:15:08,850] Trial 11 finished with value: 23.852593236094275 and parameters: {'learning_rate': 0.04443674490518673, 'n_estimators': 121, 'num_leaves': 17, 'max_depth': 3, 'min_data_in_leaf': 33, 'min_gain_to_split': 0.6208827272048142, 'feature_fraction': 0.9719484899198131, 'bagging_fraction': 0.9804701312574099, 'lambda_l1': 0.01494052147382241, 'lambda_l2': 0.48227539773069894}. Best is trial 11 with value: 23.852593236094275.\n",
      "[I 2025-07-03 10:15:09,837] Trial 12 finished with value: 24.56837430032188 and parameters: {'learning_rate': 0.010248640242745383, 'n_estimators': 128, 'num_leaves': 19, 'max_depth': 3, 'min_data_in_leaf': 23, 'min_gain_to_split': 0.5939961850675362, 'feature_fraction': 0.9814570447246718, 'bagging_fraction': 0.9795793789842311, 'lambda_l1': 0.016820469079977814, 'lambda_l2': 0.4351792171406432}. Best is trial 11 with value: 23.852593236094275.\n",
      "[I 2025-07-03 10:15:12,415] Trial 13 finished with value: 24.276640974753338 and parameters: {'learning_rate': 0.052007268332524614, 'n_estimators': 236, 'num_leaves': 31, 'max_depth': 7, 'min_data_in_leaf': 33, 'min_gain_to_split': 0.6939229128977298, 'feature_fraction': 0.8198748732654964, 'bagging_fraction': 0.7403945335722012, 'lambda_l1': 0.6768608449576335, 'lambda_l2': 0.34045066335487406}. Best is trial 11 with value: 23.852593236094275.\n",
      "[I 2025-07-03 10:15:13,920] Trial 14 finished with value: 24.62940283445024 and parameters: {'learning_rate': 0.13599534300282268, 'n_estimators': 156, 'num_leaves': 24, 'max_depth': 5, 'min_data_in_leaf': 30, 'min_gain_to_split': 0.3940466333320446, 'feature_fraction': 0.9088583349063538, 'bagging_fraction': 0.9970866625436955, 'lambda_l1': 0.11410308208588804, 'lambda_l2': 0.004474724873313685}. Best is trial 11 with value: 23.852593236094275.\n",
      "[I 2025-07-03 10:15:15,161] Trial 15 finished with value: 24.114334359246403 and parameters: {'learning_rate': 0.05278940259355254, 'n_estimators': 68, 'num_leaves': 34, 'max_depth': 6, 'min_data_in_leaf': 19, 'min_gain_to_split': 0.6592561707465951, 'feature_fraction': 0.8777611390468869, 'bagging_fraction': 0.663803569318145, 'lambda_l1': 0.6019385361767027, 'lambda_l2': 0.25585941625158165}. Best is trial 11 with value: 23.852593236094275.\n",
      "[I 2025-07-03 10:15:16,790] Trial 16 finished with value: 24.576209724869535 and parameters: {'learning_rate': 0.10693527989948226, 'n_estimators': 274, 'num_leaves': 25, 'max_depth': 4, 'min_data_in_leaf': 36, 'min_gain_to_split': 0.28820568495713694, 'feature_fraction': 0.774789549296096, 'bagging_fraction': 0.9042778004416553, 'lambda_l1': 0.1323736337444597, 'lambda_l2': 0.5573463009054667}. Best is trial 11 with value: 23.852593236094275.\n",
      "[I 2025-07-03 10:15:20,752] Trial 17 finished with value: 24.19853323210178 and parameters: {'learning_rate': 0.04966463254565345, 'n_estimators': 240, 'num_leaves': 36, 'max_depth': 8, 'min_data_in_leaf': 26, 'min_gain_to_split': 0.4877977484011059, 'feature_fraction': 0.990136892435681, 'bagging_fraction': 0.7705182671236019, 'lambda_l1': 0.10789765070392598, 'lambda_l2': 0.4704392274508648}. Best is trial 11 with value: 23.852593236094275.\n",
      "[I 2025-07-03 10:15:22,004] Trial 18 finished with value: 23.835005572893316 and parameters: {'learning_rate': 0.02792309668125611, 'n_estimators': 152, 'num_leaves': 48, 'max_depth': 4, 'min_data_in_leaf': 19, 'min_gain_to_split': 0.7256945715071812, 'feature_fraction': 0.7858705092699398, 'bagging_fraction': 0.6853805633818886, 'lambda_l1': 0.8345086379510729, 'lambda_l2': 0.9602555213541055}. Best is trial 18 with value: 23.835005572893316.\n",
      "[I 2025-07-03 10:15:23,039] Trial 19 finished with value: 26.453749694535514 and parameters: {'learning_rate': 0.29930243971702364, 'n_estimators': 89, 'num_leaves': 49, 'max_depth': 4, 'min_data_in_leaf': 10, 'min_gain_to_split': 0.7933570421561031, 'feature_fraction': 0.7773626850233126, 'bagging_fraction': 0.6841133631482631, 'lambda_l1': 0.9772492482659642, 'lambda_l2': 0.5614952627385645}. Best is trial 18 with value: 23.835005572893316.\n",
      "[I 2025-07-03 10:15:24,072] Trial 20 finished with value: 24.976111998819942 and parameters: {'learning_rate': 0.15698679433504528, 'n_estimators': 152, 'num_leaves': 57, 'max_depth': 3, 'min_data_in_leaf': 16, 'min_gain_to_split': 0.6811150263880854, 'feature_fraction': 0.853594122639303, 'bagging_fraction': 0.7888998514731673, 'lambda_l1': 0.7195035180238862, 'lambda_l2': 0.9778751107716193}. Best is trial 18 with value: 23.835005572893316.\n",
      "[I 2025-07-03 10:15:25,398] Trial 21 finished with value: 23.834249701596548 and parameters: {'learning_rate': 0.028264318867712825, 'n_estimators': 123, 'num_leaves': 46, 'max_depth': 5, 'min_data_in_leaf': 22, 'min_gain_to_split': 0.598072938651407, 'feature_fraction': 0.7703113906735164, 'bagging_fraction': 0.6019269979808819, 'lambda_l1': 0.9588423998990317, 'lambda_l2': 0.3748909488272414}. Best is trial 21 with value: 23.834249701596548.\n",
      "[I 2025-07-03 10:15:26,837] Trial 22 finished with value: 23.835962704801396 and parameters: {'learning_rate': 0.03289576549955655, 'n_estimators': 128, 'num_leaves': 46, 'max_depth': 5, 'min_data_in_leaf': 20, 'min_gain_to_split': 0.607993635345743, 'feature_fraction': 0.7802993059582524, 'bagging_fraction': 0.6057356312846164, 'lambda_l1': 0.9094984531045125, 'lambda_l2': 0.38356706324937084}. Best is trial 21 with value: 23.834249701596548.\n",
      "[I 2025-07-03 10:15:28,276] Trial 23 finished with value: 24.36599750478505 and parameters: {'learning_rate': 0.08167950372377196, 'n_estimators': 138, 'num_leaves': 46, 'max_depth': 5, 'min_data_in_leaf': 21, 'min_gain_to_split': 0.7432713235531108, 'feature_fraction': 0.796413706254189, 'bagging_fraction': 0.6814067151670941, 'lambda_l1': 0.9588779586384271, 'lambda_l2': 0.34429596888462266}. Best is trial 21 with value: 23.834249701596548.\n",
      "[I 2025-07-03 10:15:30,085] Trial 24 finished with value: 23.934964537168398 and parameters: {'learning_rate': 0.03354246967949992, 'n_estimators': 167, 'num_leaves': 54, 'max_depth': 5, 'min_data_in_leaf': 15, 'min_gain_to_split': 0.5476839185921296, 'feature_fraction': 0.7484080452699148, 'bagging_fraction': 0.649728205484648, 'lambda_l1': 0.8638652439212303, 'lambda_l2': 0.40469917658853527}. Best is trial 21 with value: 23.834249701596548.\n",
      "[I 2025-07-03 10:15:31,056] Trial 25 finished with value: 23.92388685336131 and parameters: {'learning_rate': 0.0717665328227296, 'n_estimators': 101, 'num_leaves': 45, 'max_depth': 4, 'min_data_in_leaf': 21, 'min_gain_to_split': 0.878230179811818, 'feature_fraction': 0.7570725682166213, 'bagging_fraction': 0.6094135289315091, 'lambda_l1': 0.86985976303582, 'lambda_l2': 0.24810631586151302}. Best is trial 21 with value: 23.834249701596548.\n",
      "[I 2025-07-03 10:15:32,215] Trial 26 finished with value: 24.16208112234407 and parameters: {'learning_rate': 0.09504469508889046, 'n_estimators': 75, 'num_leaves': 63, 'max_depth': 5, 'min_data_in_leaf': 14, 'min_gain_to_split': 0.7347008802328573, 'feature_fraction': 0.8141644666025196, 'bagging_fraction': 0.6961183209372463, 'lambda_l1': 0.7783993137500901, 'lambda_l2': 0.5514524997727556}. Best is trial 21 with value: 23.834249701596548.\n",
      "[I 2025-07-03 10:15:33,466] Trial 27 finished with value: 23.930808504444578 and parameters: {'learning_rate': 0.02370844464906647, 'n_estimators': 132, 'num_leaves': 47, 'max_depth': 4, 'min_data_in_leaf': 13, 'min_gain_to_split': 0.5396158636563259, 'feature_fraction': 0.8675398631606344, 'bagging_fraction': 0.6048214953984923, 'lambda_l1': 0.9993226636920427, 'lambda_l2': 0.26093204943314496}. Best is trial 21 with value: 23.834249701596548.\n",
      "[I 2025-07-03 10:15:35,004] Trial 28 finished with value: 24.20627623146162 and parameters: {'learning_rate': 0.06549833221248047, 'n_estimators': 107, 'num_leaves': 54, 'max_depth': 6, 'min_data_in_leaf': 19, 'min_gain_to_split': 0.39128605883755374, 'feature_fraction': 0.7477090159070829, 'bagging_fraction': 0.6604555627086206, 'lambda_l1': 0.5940726352673154, 'lambda_l2': 0.38940409713996116}. Best is trial 21 with value: 23.834249701596548.\n",
      "[I 2025-07-03 10:15:37,039] Trial 29 finished with value: 25.162339566681556 and parameters: {'learning_rate': 0.12377655015489808, 'n_estimators': 169, 'num_leaves': 43, 'max_depth': 7, 'min_data_in_leaf': 23, 'min_gain_to_split': 0.5990633564001586, 'feature_fraction': 0.6750527692060984, 'bagging_fraction': 0.6384146729084305, 'lambda_l1': 0.9182040122575151, 'lambda_l2': 0.9903790415482663}. Best is trial 21 with value: 23.834249701596548.\n",
      "[I 2025-07-03 10:15:38,272] Trial 30 finished with value: 23.946977740107407 and parameters: {'learning_rate': 0.03348084252642913, 'n_estimators': 84, 'num_leaves': 53, 'max_depth': 5, 'min_data_in_leaf': 19, 'min_gain_to_split': 0.8490686467068589, 'feature_fraction': 0.7814794527135249, 'bagging_fraction': 0.7022760004108946, 'lambda_l1': 0.782851151822586, 'lambda_l2': 0.7922058710755393}. Best is trial 21 with value: 23.834249701596548.\n",
      "[I 2025-07-03 10:15:39,148] Trial 31 finished with value: 23.776454420727255 and parameters: {'learning_rate': 0.04896630505380903, 'n_estimators': 123, 'num_leaves': 39, 'max_depth': 3, 'min_data_in_leaf': 33, 'min_gain_to_split': 0.5679437963517846, 'feature_fraction': 0.9435471182637334, 'bagging_fraction': 0.6021012555347826, 'lambda_l1': 0.9118503617611484, 'lambda_l2': 0.5024314131812267}. Best is trial 31 with value: 23.776454420727255.\n",
      "[I 2025-07-03 10:15:39,880] Trial 32 finished with value: 24.064481254181032 and parameters: {'learning_rate': 0.059653339771917335, 'n_estimators': 51, 'num_leaves': 39, 'max_depth': 4, 'min_data_in_leaf': 31, 'min_gain_to_split': 0.5341668481242968, 'feature_fraction': 0.8947488950451163, 'bagging_fraction': 0.6358433257406202, 'lambda_l1': 0.9223361181982612, 'lambda_l2': 0.9067461662189952}. Best is trial 31 with value: 23.776454420727255.\n",
      "[I 2025-07-03 10:15:40,984] Trial 33 finished with value: 23.808591972509287 and parameters: {'learning_rate': 0.02036016044430431, 'n_estimators': 199, 'num_leaves': 48, 'max_depth': 3, 'min_data_in_leaf': 37, 'min_gain_to_split': 0.6253887688185296, 'feature_fraction': 0.8279182753070797, 'bagging_fraction': 0.6004990632439107, 'lambda_l1': 0.7973232874574873, 'lambda_l2': 0.21312533619414076}. Best is trial 31 with value: 23.776454420727255.\n",
      "[I 2025-07-03 10:15:42,143] Trial 34 finished with value: 23.958528465294556 and parameters: {'learning_rate': 0.01252513356285802, 'n_estimators': 197, 'num_leaves': 49, 'max_depth': 3, 'min_data_in_leaf': 39, 'min_gain_to_split': 0.7704178442817655, 'feature_fraction': 0.9460830334235438, 'bagging_fraction': 0.6340519486597402, 'lambda_l1': 0.7914280676729554, 'lambda_l2': 0.20497220268541247}. Best is trial 31 with value: 23.776454420727255.\n",
      "[I 2025-07-03 10:15:43,185] Trial 35 finished with value: 24.10705542743809 and parameters: {'learning_rate': 0.07193205367491218, 'n_estimators': 194, 'num_leaves': 57, 'max_depth': 3, 'min_data_in_leaf': 49, 'min_gain_to_split': 0.6735526547081878, 'feature_fraction': 0.8175282358533498, 'bagging_fraction': 0.6592508076539306, 'lambda_l1': 0.7016678677389787, 'lambda_l2': 0.04521249841677999}. Best is trial 31 with value: 23.776454420727255.\n",
      "[I 2025-07-03 10:15:44,418] Trial 36 finished with value: 24.491411408817928 and parameters: {'learning_rate': 0.09459926719810116, 'n_estimators': 183, 'num_leaves': 41, 'max_depth': 4, 'min_data_in_leaf': 39, 'min_gain_to_split': 0.8083829294648168, 'feature_fraction': 0.8423056530316128, 'bagging_fraction': 0.6008493066145815, 'lambda_l1': 0.567499668912965, 'lambda_l2': 0.08961687673463986}. Best is trial 31 with value: 23.776454420727255.\n",
      "[I 2025-07-03 10:15:45,562] Trial 37 finished with value: 23.830995800292122 and parameters: {'learning_rate': 0.04388469565440306, 'n_estimators': 210, 'num_leaves': 43, 'max_depth': 3, 'min_data_in_leaf': 36, 'min_gain_to_split': 0.003042065116220294, 'feature_fraction': 0.936411777575093, 'bagging_fraction': 0.6252569389566074, 'lambda_l1': 0.7409590814127108, 'lambda_l2': 0.6870677063412538}. Best is trial 31 with value: 23.776454420727255.\n",
      "[I 2025-07-03 10:15:46,724] Trial 38 finished with value: 25.811803436510058 and parameters: {'learning_rate': 0.22832824653845712, 'n_estimators': 215, 'num_leaves': 43, 'max_depth': 3, 'min_data_in_leaf': 36, 'min_gain_to_split': 0.007502966829472046, 'feature_fraction': 0.9498997792316229, 'bagging_fraction': 0.6258323848652739, 'lambda_l1': 0.7404958560495374, 'lambda_l2': 0.6798686880056414}. Best is trial 31 with value: 23.776454420727255.\n",
      "[I 2025-07-03 10:15:47,863] Trial 39 finished with value: 23.815092333401452 and parameters: {'learning_rate': 0.04593049159890784, 'n_estimators': 201, 'num_leaves': 52, 'max_depth': 3, 'min_data_in_leaf': 43, 'min_gain_to_split': 0.2277068432794188, 'feature_fraction': 0.9191525321244502, 'bagging_fraction': 0.7590745936901393, 'lambda_l1': 0.6450963826158669, 'lambda_l2': 0.5745794769431279}. Best is trial 31 with value: 23.776454420727255.\n",
      "[I 2025-07-03 10:15:49,010] Trial 40 finished with value: 24.8542954958577 and parameters: {'learning_rate': 0.15403316997512212, 'n_estimators': 204, 'num_leaves': 51, 'max_depth': 3, 'min_data_in_leaf': 43, 'min_gain_to_split': 0.20472691955453293, 'feature_fraction': 0.9214373379304558, 'bagging_fraction': 0.7622716596899384, 'lambda_l1': 0.5063534121514385, 'lambda_l2': 0.7295481705197191}. Best is trial 31 with value: 23.776454420727255.\n",
      "[I 2025-07-03 10:15:50,289] Trial 41 finished with value: 23.832839792343062 and parameters: {'learning_rate': 0.04347553746848416, 'n_estimators': 231, 'num_leaves': 39, 'max_depth': 3, 'min_data_in_leaf': 45, 'min_gain_to_split': 0.018608368544374712, 'feature_fraction': 0.9435162062793779, 'bagging_fraction': 0.8651949745367011, 'lambda_l1': 0.6857217500123705, 'lambda_l2': 0.6048161900209471}. Best is trial 31 with value: 23.776454420727255.\n",
      "[I 2025-07-03 10:15:51,515] Trial 42 finished with value: 23.86699715436771 and parameters: {'learning_rate': 0.042333487374336676, 'n_estimators': 231, 'num_leaves': 38, 'max_depth': 3, 'min_data_in_leaf': 46, 'min_gain_to_split': 0.026034075931871424, 'feature_fraction': 0.9482799207262705, 'bagging_fraction': 0.8467798454754119, 'lambda_l1': 0.6609463733116122, 'lambda_l2': 0.6263761664874692}. Best is trial 31 with value: 23.776454420727255.\n",
      "[I 2025-07-03 10:15:52,786] Trial 43 finished with value: 24.071867775092116 and parameters: {'learning_rate': 0.08295769601145397, 'n_estimators': 252, 'num_leaves': 41, 'max_depth': 3, 'min_data_in_leaf': 41, 'min_gain_to_split': 0.1022412782076085, 'feature_fraction': 0.8909601095274159, 'bagging_fraction': 0.8717700319918631, 'lambda_l1': 0.6421578836372297, 'lambda_l2': 0.603152760133363}. Best is trial 31 with value: 23.776454420727255.\n",
      "[I 2025-07-03 10:15:54,095] Trial 44 finished with value: 24.03452572133831 and parameters: {'learning_rate': 0.06331812028033128, 'n_estimators': 264, 'num_leaves': 30, 'max_depth': 3, 'min_data_in_leaf': 45, 'min_gain_to_split': 0.18797308524124695, 'feature_fraction': 0.9659296915785219, 'bagging_fraction': 0.8068142214153536, 'lambda_l1': 0.518586792392124, 'lambda_l2': 0.521494424102012}. Best is trial 31 with value: 23.776454420727255.\n",
      "[I 2025-07-03 10:15:55,299] Trial 45 finished with value: 23.87059197647782 and parameters: {'learning_rate': 0.045639496321903394, 'n_estimators': 225, 'num_leaves': 35, 'max_depth': 3, 'min_data_in_leaf': 50, 'min_gain_to_split': 0.07310864600627877, 'feature_fraction': 0.9301640354078656, 'bagging_fraction': 0.9051900508342309, 'lambda_l1': 0.38963102549400885, 'lambda_l2': 0.716017691529412}. Best is trial 31 with value: 23.776454420727255.\n",
      "[I 2025-07-03 10:15:56,883] Trial 46 finished with value: 23.839473479112517 and parameters: {'learning_rate': 0.019468935498748657, 'n_estimators': 205, 'num_leaves': 52, 'max_depth': 4, 'min_data_in_leaf': 38, 'min_gain_to_split': 0.2733423632942328, 'feature_fraction': 0.91130209703985, 'bagging_fraction': 0.8951529142315733, 'lambda_l1': 0.7563073174471766, 'lambda_l2': 0.7844631810764864}. Best is trial 31 with value: 23.776454420727255.\n",
      "[I 2025-07-03 10:15:59,326] Trial 47 finished with value: 24.372207325786736 and parameters: {'learning_rate': 0.07753661486571453, 'n_estimators': 178, 'num_leaves': 43, 'max_depth': 10, 'min_data_in_leaf': 43, 'min_gain_to_split': 0.13413358219396598, 'feature_fraction': 0.9959818282609538, 'bagging_fraction': 0.8138634936778062, 'lambda_l1': 0.6322317830468879, 'lambda_l2': 0.5992910453092275}. Best is trial 31 with value: 23.776454420727255.\n",
      "[I 2025-07-03 10:16:00,881] Trial 48 finished with value: 24.245390534255602 and parameters: {'learning_rate': 0.10652576869323496, 'n_estimators': 220, 'num_leaves': 28, 'max_depth': 4, 'min_data_in_leaf': 34, 'min_gain_to_split': 0.05138202648755469, 'feature_fraction': 0.9676865749296572, 'bagging_fraction': 0.9343522620597488, 'lambda_l1': 0.8258047656130824, 'lambda_l2': 0.44333603636242425}. Best is trial 31 with value: 23.776454420727255.\n",
      "[I 2025-07-03 10:16:02,001] Trial 49 finished with value: 23.920455946510486 and parameters: {'learning_rate': 0.04063606492604754, 'n_estimators': 191, 'num_leaves': 34, 'max_depth': 3, 'min_data_in_leaf': 37, 'min_gain_to_split': 0.17715415664582468, 'feature_fraction': 0.934524214191885, 'bagging_fraction': 0.715780453700209, 'lambda_l1': 0.7049228863141255, 'lambda_l2': 0.6708261237271522}. Best is trial 31 with value: 23.776454420727255.\n",
      "[I 2025-07-03 10:16:02,004] A new study created in memory with name: no-name-2377d79d-ea0c-4044-bc1a-11a7434230f2\n"
     ]
    },
    {
     "name": "stdout",
     "output_type": "stream",
     "text": [
      "LightGBM done. Best RMSE: 23.7765\n",
      "Starting tuning for XGBoost...\n"
     ]
    },
    {
     "name": "stderr",
     "output_type": "stream",
     "text": [
      "[I 2025-07-03 10:16:25,851] Trial 0 finished with value: 25.030487748059855 and parameters: {'learning_rate': 0.166395967564049, 'n_estimators': 213, 'max_depth': 8, 'min_child_weight': 9, 'subsample': 0.698502447508135, 'colsample_bytree': 0.6265136323415365, 'reg_alpha': 0.03462612513855179, 'reg_lambda': 0.16044569289576072}. Best is trial 0 with value: 25.030487748059855.\n",
      "[I 2025-07-03 10:16:38,568] Trial 1 finished with value: 25.695243236007038 and parameters: {'learning_rate': 0.24352292101127293, 'n_estimators': 282, 'max_depth': 4, 'min_child_weight': 7, 'subsample': 0.788351929655553, 'colsample_bytree': 0.7592324788718486, 'reg_alpha': 0.44251467336798256, 'reg_lambda': 0.5425323983341053}. Best is trial 0 with value: 25.030487748059855.\n",
      "[I 2025-07-03 10:16:48,047] Trial 2 finished with value: 24.97629658022269 and parameters: {'learning_rate': 0.15545500934737735, 'n_estimators': 206, 'max_depth': 4, 'min_child_weight': 10, 'subsample': 0.7850063029943424, 'colsample_bytree': 0.8225204573954223, 'reg_alpha': 0.9883459206348516, 'reg_lambda': 0.022968695918206605}. Best is trial 2 with value: 24.97629658022269.\n",
      "[I 2025-07-03 10:17:06,569] Trial 3 finished with value: 23.83445569531724 and parameters: {'learning_rate': 0.012459266914579213, 'n_estimators': 287, 'max_depth': 5, 'min_child_weight': 4, 'subsample': 0.6556717549582661, 'colsample_bytree': 0.7049947401297398, 'reg_alpha': 0.842381179378575, 'reg_lambda': 0.8848090163622794}. Best is trial 3 with value: 23.83445569531724.\n",
      "[I 2025-07-03 10:17:12,435] Trial 4 finished with value: 24.13119664165246 and parameters: {'learning_rate': 0.0899861050146611, 'n_estimators': 167, 'max_depth': 3, 'min_child_weight': 6, 'subsample': 0.6364075823223142, 'colsample_bytree': 0.7701367073323193, 'reg_alpha': 0.8183660766683207, 'reg_lambda': 0.6859698692671228}. Best is trial 3 with value: 23.83445569531724.\n",
      "[I 2025-07-03 10:17:21,396] Trial 5 finished with value: 24.600461497531814 and parameters: {'learning_rate': 0.114235283583989, 'n_estimators': 132, 'max_depth': 5, 'min_child_weight': 8, 'subsample': 0.951659927820967, 'colsample_bytree': 0.9573351794735667, 'reg_alpha': 0.922003398573825, 'reg_lambda': 0.09797995385805147}. Best is trial 3 with value: 23.83445569531724.\n",
      "[I 2025-07-03 10:17:50,152] Trial 6 finished with value: 24.20202396497728 and parameters: {'learning_rate': 0.03641298349588132, 'n_estimators': 201, 'max_depth': 7, 'min_child_weight': 5, 'subsample': 0.8931472153255019, 'colsample_bytree': 0.8458625441832895, 'reg_alpha': 0.10380359897946934, 'reg_lambda': 0.38177830093109366}. Best is trial 3 with value: 23.83445569531724.\n",
      "[I 2025-07-03 10:18:13,368] Trial 7 finished with value: 26.611000424605628 and parameters: {'learning_rate': 0.263047094453489, 'n_estimators': 219, 'max_depth': 7, 'min_child_weight': 8, 'subsample': 0.6292588972347791, 'colsample_bytree': 0.9397808241931076, 'reg_alpha': 0.3308437626537837, 'reg_lambda': 0.5564544081625761}. Best is trial 3 with value: 23.83445569531724.\n",
      "[I 2025-07-03 10:18:34,244] Trial 8 finished with value: 24.436468264843917 and parameters: {'learning_rate': 0.07264039410954642, 'n_estimators': 246, 'max_depth': 6, 'min_child_weight': 9, 'subsample': 0.6547869923973885, 'colsample_bytree': 0.8889933989028602, 'reg_alpha': 0.6510519600423247, 'reg_lambda': 0.43444741681643584}. Best is trial 3 with value: 23.83445569531724.\n",
      "[I 2025-07-03 10:18:39,333] Trial 9 finished with value: 24.86456318795776 and parameters: {'learning_rate': 0.19707434297618792, 'n_estimators': 148, 'max_depth': 3, 'min_child_weight': 10, 'subsample': 0.9304800811963856, 'colsample_bytree': 0.6742910942160292, 'reg_alpha': 0.7505880212211455, 'reg_lambda': 0.7473993035505775}. Best is trial 3 with value: 23.83445569531724.\n",
      "[I 2025-07-03 10:19:10,718] Trial 10 finished with value: 24.613007163232897 and parameters: {'learning_rate': 0.0134625759291916, 'n_estimators': 64, 'max_depth': 10, 'min_child_weight': 2, 'subsample': 0.7221630558795415, 'colsample_bytree': 0.6938383633857301, 'reg_alpha': 0.5728316686484122, 'reg_lambda': 0.992984891885628}. Best is trial 3 with value: 23.83445569531724.\n",
      "[I 2025-07-03 10:19:20,357] Trial 11 finished with value: 24.497579050120372 and parameters: {'learning_rate': 0.0909179241979267, 'n_estimators': 293, 'max_depth': 3, 'min_child_weight': 4, 'subsample': 0.6041471260568585, 'colsample_bytree': 0.7534840457490619, 'reg_alpha': 0.7684381393698457, 'reg_lambda': 0.8382225474038401}. Best is trial 3 with value: 23.83445569531724.\n",
      "[I 2025-07-03 10:19:28,139] Trial 12 finished with value: 24.083888391674815 and parameters: {'learning_rate': 0.05885234584612356, 'n_estimators': 110, 'max_depth': 5, 'min_child_weight': 3, 'subsample': 0.7158656487597319, 'colsample_bytree': 0.7362699779820221, 'reg_alpha': 0.8707209456947456, 'reg_lambda': 0.7623016415181887}. Best is trial 3 with value: 23.83445569531724.\n",
      "[I 2025-07-03 10:19:35,516] Trial 13 finished with value: 24.091151911851213 and parameters: {'learning_rate': 0.04104196100796306, 'n_estimators': 97, 'max_depth': 5, 'min_child_weight': 2, 'subsample': 0.7230732332946527, 'colsample_bytree': 0.7107888290892365, 'reg_alpha': 0.8757391483210877, 'reg_lambda': 0.972717290947078}. Best is trial 3 with value: 23.83445569531724.\n",
      "[I 2025-07-03 10:19:42,920] Trial 14 finished with value: 24.158240078394595 and parameters: {'learning_rate': 0.01788879548293678, 'n_estimators': 104, 'max_depth': 5, 'min_child_weight': 4, 'subsample': 0.6980970407522926, 'colsample_bytree': 0.609130934237411, 'reg_alpha': 0.6550071005190228, 'reg_lambda': 0.8289466114434821}. Best is trial 3 with value: 23.83445569531724.\n",
      "[I 2025-07-03 10:19:50,016] Trial 15 finished with value: 24.179534152619393 and parameters: {'learning_rate': 0.06931134024442663, 'n_estimators': 55, 'max_depth': 6, 'min_child_weight': 1, 'subsample': 0.8333964158038041, 'colsample_bytree': 0.6764307433585194, 'reg_alpha': 0.40796180714047997, 'reg_lambda': 0.6526306839466185}. Best is trial 3 with value: 23.83445569531724.\n",
      "[I 2025-07-03 10:20:40,719] Trial 16 finished with value: 24.795506656773636 and parameters: {'learning_rate': 0.12023650460959281, 'n_estimators': 255, 'max_depth': 9, 'min_child_weight': 3, 'subsample': 0.7523953896981255, 'colsample_bytree': 0.7260734828759563, 'reg_alpha': 0.9650660891426549, 'reg_lambda': 0.8539343091996586}. Best is trial 3 with value: 23.83445569531724.\n",
      "[I 2025-07-03 10:20:46,723] Trial 17 finished with value: 24.069481680938004 and parameters: {'learning_rate': 0.05233346764534845, 'n_estimators': 118, 'max_depth': 4, 'min_child_weight': 5, 'subsample': 0.8440325814461038, 'colsample_bytree': 0.7943729952219368, 'reg_alpha': 0.2336871530292709, 'reg_lambda': 0.29648721338439843}. Best is trial 3 with value: 23.83445569531724.\n",
      "[I 2025-07-03 10:20:55,147] Trial 18 finished with value: 25.80394030824609 and parameters: {'learning_rate': 0.217950552073844, 'n_estimators': 178, 'max_depth': 4, 'min_child_weight': 6, 'subsample': 0.8549534201586173, 'colsample_bytree': 0.8579671742233502, 'reg_alpha': 0.24206492551173597, 'reg_lambda': 0.363531561889386}. Best is trial 3 with value: 23.83445569531724.\n",
      "[I 2025-07-03 10:21:03,790] Trial 19 finished with value: 25.622793581617124 and parameters: {'learning_rate': 0.29485745140053965, 'n_estimators': 83, 'max_depth': 6, 'min_child_weight': 5, 'subsample': 0.9975068393784311, 'colsample_bytree': 0.7937089412429406, 'reg_alpha': 0.22179041837939636, 'reg_lambda': 0.2167649945915434}. Best is trial 3 with value: 23.83445569531724.\n",
      "[I 2025-07-03 10:21:10,120] Trial 20 finished with value: 24.86705163124582 and parameters: {'learning_rate': 0.12752647115315163, 'n_estimators': 127, 'max_depth': 4, 'min_child_weight': 4, 'subsample': 0.8416339422109158, 'colsample_bytree': 0.8951766645846292, 'reg_alpha': 0.5207691924341911, 'reg_lambda': 0.2853009012762974}. Best is trial 3 with value: 23.83445569531724.\n",
      "[I 2025-07-03 10:21:18,526] Trial 21 finished with value: 23.893238026700693 and parameters: {'learning_rate': 0.04471697110791387, 'n_estimators': 120, 'max_depth': 5, 'min_child_weight': 3, 'subsample': 0.7572594910608197, 'colsample_bytree': 0.6533573140425359, 'reg_alpha': 0.6631255771018805, 'reg_lambda': 0.8938932649042739}. Best is trial 3 with value: 23.83445569531724.\n",
      "[I 2025-07-03 10:21:28,912] Trial 22 finished with value: 24.150691804652336 and parameters: {'learning_rate': 0.042470388082613414, 'n_estimators': 155, 'max_depth': 5, 'min_child_weight': 3, 'subsample': 0.6728034199732253, 'colsample_bytree': 0.6403900261264316, 'reg_alpha': 0.6595959278109426, 'reg_lambda': 0.93394259657151}. Best is trial 3 with value: 23.83445569531724.\n",
      "[I 2025-07-03 10:21:35,243] Trial 23 finished with value: 24.080500578588563 and parameters: {'learning_rate': 0.018144932981988732, 'n_estimators': 124, 'max_depth': 4, 'min_child_weight': 5, 'subsample': 0.7717858336197485, 'colsample_bytree': 0.647992186519448, 'reg_alpha': 0.735335909429826, 'reg_lambda': 0.6210900075997736}. Best is trial 3 with value: 23.83445569531724.\n",
      "[I 2025-07-03 10:21:55,030] Trial 24 finished with value: 24.41757559317399 and parameters: {'learning_rate': 0.09434841755900475, 'n_estimators': 183, 'max_depth': 6, 'min_child_weight': 1, 'subsample': 0.8286183506189705, 'colsample_bytree': 0.7876202150028776, 'reg_alpha': 0.5768700331575765, 'reg_lambda': 0.29023519996589825}. Best is trial 3 with value: 23.83445569531724.\n",
      "[I 2025-07-03 10:22:08,052] Trial 25 finished with value: 24.384674121719293 and parameters: {'learning_rate': 0.05216647874156643, 'n_estimators': 78, 'max_depth': 7, 'min_child_weight': 4, 'subsample': 0.8825873342033299, 'colsample_bytree': 0.6582086664139326, 'reg_alpha': 0.22183699083621938, 'reg_lambda': 0.9115301218521059}. Best is trial 3 with value: 23.83445569531724.\n",
      "[I 2025-07-03 10:22:18,478] Trial 26 finished with value: 24.145108498218825 and parameters: {'learning_rate': 0.010266175344271544, 'n_estimators': 149, 'max_depth': 5, 'min_child_weight': 2, 'subsample': 0.7519882700616852, 'colsample_bytree': 0.6012365892307644, 'reg_alpha': 0.36145597437395105, 'reg_lambda': 0.48783344745889284}. Best is trial 3 with value: 23.83445569531724.\n",
      "[I 2025-07-03 10:22:27,595] Trial 27 finished with value: 24.255937405010155 and parameters: {'learning_rate': 0.0725250077266374, 'n_estimators': 264, 'max_depth': 3, 'min_child_weight': 6, 'subsample': 0.81686950754136, 'colsample_bytree': 0.9972096509373685, 'reg_alpha': 0.6953220654504788, 'reg_lambda': 0.7789062892087704}. Best is trial 3 with value: 23.83445569531724.\n",
      "[I 2025-07-03 10:22:31,796] Trial 28 finished with value: 24.654260157414065 and parameters: {'learning_rate': 0.13657935232998697, 'n_estimators': 81, 'max_depth': 4, 'min_child_weight': 3, 'subsample': 0.8720046405757265, 'colsample_bytree': 0.6926025807588857, 'reg_alpha': 0.57345945169073, 'reg_lambda': 0.581848502945036}. Best is trial 3 with value: 23.83445569531724.\n",
      "[I 2025-07-03 10:23:10,634] Trial 29 finished with value: 24.082432442208113 and parameters: {'learning_rate': 0.03439335690255635, 'n_estimators': 230, 'max_depth': 8, 'min_child_weight': 7, 'subsample': 0.9244674420039557, 'colsample_bytree': 0.8165690680256046, 'reg_alpha': 0.07504303783058983, 'reg_lambda': 0.2164363117786231}. Best is trial 3 with value: 23.83445569531724.\n",
      "[I 2025-07-03 10:23:39,030] Trial 30 finished with value: 25.239899796276653 and parameters: {'learning_rate': 0.1775576106974481, 'n_estimators': 193, 'max_depth': 8, 'min_child_weight': 5, 'subsample': 0.6755880759570836, 'colsample_bytree': 0.6254544062586077, 'reg_alpha': 0.8177898862702209, 'reg_lambda': 0.7019714969388573}. Best is trial 3 with value: 23.83445569531724.\n",
      "[I 2025-07-03 10:23:45,409] Trial 31 finished with value: 23.9221526391335 and parameters: {'learning_rate': 0.025595267143776954, 'n_estimators': 131, 'max_depth': 4, 'min_child_weight': 5, 'subsample': 0.7630921093064145, 'colsample_bytree': 0.6500377383906996, 'reg_alpha': 0.7386998789415834, 'reg_lambda': 0.8779983780613152}. Best is trial 3 with value: 23.83445569531724.\n",
      "[I 2025-07-03 10:23:52,309] Trial 32 finished with value: 23.89769548014333 and parameters: {'learning_rate': 0.03187040230032313, 'n_estimators': 140, 'max_depth': 4, 'min_child_weight': 4, 'subsample': 0.7539065005056083, 'colsample_bytree': 0.7217426718592319, 'reg_alpha': 0.7770500580318043, 'reg_lambda': 0.8804966951194058}. Best is trial 3 with value: 23.83445569531724.\n",
      "[I 2025-07-03 10:24:02,178] Trial 33 finished with value: 23.86964012015706 and parameters: {'learning_rate': 0.03192574453752022, 'n_estimators': 139, 'max_depth': 5, 'min_child_weight': 4, 'subsample': 0.8015204784315006, 'colsample_bytree': 0.7176035884976187, 'reg_alpha': 0.8181160827021655, 'reg_lambda': 0.9225368690282013}. Best is trial 3 with value: 23.83445569531724.\n",
      "[I 2025-07-03 10:24:18,652] Trial 34 finished with value: 24.71542998882895 and parameters: {'learning_rate': 0.10367742697550236, 'n_estimators': 155, 'max_depth': 6, 'min_child_weight': 4, 'subsample': 0.7960219283385378, 'colsample_bytree': 0.7298933945324679, 'reg_alpha': 0.8503876001358893, 'reg_lambda': 0.9329657622168149}. Best is trial 3 with value: 23.83445569531724.\n",
      "[I 2025-07-03 10:24:30,348] Trial 35 finished with value: 24.159349945230126 and parameters: {'learning_rate': 0.07698395350442779, 'n_estimators': 167, 'max_depth': 5, 'min_child_weight': 3, 'subsample': 0.7987474543923186, 'colsample_bytree': 0.7115064242175171, 'reg_alpha': 0.9302238954361823, 'reg_lambda': 0.8182632984071584}. Best is trial 3 with value: 23.83445569531724.\n",
      "[I 2025-07-03 10:24:40,232] Trial 36 finished with value: 23.920477001381343 and parameters: {'learning_rate': 0.029214029181839477, 'n_estimators': 136, 'max_depth': 5, 'min_child_weight': 2, 'subsample': 0.7364630606256397, 'colsample_bytree': 0.7533868260024522, 'reg_alpha': 0.9141366501064183, 'reg_lambda': 0.9961841138705084}. Best is trial 3 with value: 23.83445569531724.\n",
      "[I 2025-07-03 10:24:44,124] Trial 37 finished with value: 23.91391535786229 and parameters: {'learning_rate': 0.057861039626346755, 'n_estimators': 94, 'max_depth': 3, 'min_child_weight': 4, 'subsample': 0.6915443490639277, 'colsample_bytree': 0.7683854443142839, 'reg_alpha': 0.7976774408941556, 'reg_lambda': 0.8861542176137046}. Best is trial 3 with value: 23.83445569531724.\n",
      "[I 2025-07-03 10:24:56,711] Trial 38 finished with value: 23.973304202038605 and parameters: {'learning_rate': 0.042718878180551124, 'n_estimators': 140, 'max_depth': 6, 'min_child_weight': 7, 'subsample': 0.6147769552129687, 'colsample_bytree': 0.6812315127376873, 'reg_alpha': 0.4977576108439794, 'reg_lambda': 0.7242542632041307}. Best is trial 3 with value: 23.83445569531724.\n",
      "[I 2025-07-03 10:25:22,500] Trial 39 finished with value: 25.169005754568268 and parameters: {'learning_rate': 0.15901818493738168, 'n_estimators': 166, 'max_depth': 7, 'min_child_weight': 3, 'subsample': 0.7773728384835458, 'colsample_bytree': 0.7078765270851317, 'reg_alpha': 0.9884749180315383, 'reg_lambda': 0.7940923882557722}. Best is trial 3 with value: 23.83445569531724.\n",
      "[I 2025-07-03 10:25:34,753] Trial 40 finished with value: 24.248938552758815 and parameters: {'learning_rate': 0.07949615988205753, 'n_estimators': 280, 'max_depth': 4, 'min_child_weight': 6, 'subsample': 0.6446659083036211, 'colsample_bytree': 0.6260717333311634, 'reg_alpha': 0.6996984864352951, 'reg_lambda': 0.953405041144413}. Best is trial 3 with value: 23.83445569531724.\n",
      "[I 2025-07-03 10:25:38,464] Trial 41 finished with value: 23.97085070231931 and parameters: {'learning_rate': 0.06230575364042312, 'n_estimators': 95, 'max_depth': 3, 'min_child_weight': 4, 'subsample': 0.6965925216919309, 'colsample_bytree': 0.7717939516303736, 'reg_alpha': 0.8013149990252223, 'reg_lambda': 0.8887613078282492}. Best is trial 3 with value: 23.83445569531724.\n",
      "[I 2025-07-03 10:25:42,806] Trial 42 finished with value: 23.89588275970611 and parameters: {'learning_rate': 0.02891263960567206, 'n_estimators': 110, 'max_depth': 3, 'min_child_weight': 4, 'subsample': 0.6746131802568428, 'colsample_bytree': 0.7488327685264582, 'reg_alpha': 0.7829680864520124, 'reg_lambda': 0.8822039991352427}. Best is trial 3 with value: 23.83445569531724.\n",
      "[I 2025-07-03 10:25:47,129] Trial 43 finished with value: 23.951661209328016 and parameters: {'learning_rate': 0.02717498451584102, 'n_estimators': 114, 'max_depth': 3, 'min_child_weight': 4, 'subsample': 0.655161355716235, 'colsample_bytree': 0.7409528017915111, 'reg_alpha': 0.8740835491046501, 'reg_lambda': 0.8628168346529005}. Best is trial 3 with value: 23.83445569531724.\n",
      "[I 2025-07-03 10:25:54,105] Trial 44 finished with value: 24.24673801779424 and parameters: {'learning_rate': 0.010969626878170359, 'n_estimators': 137, 'max_depth': 4, 'min_child_weight': 3, 'subsample': 0.8106230724807535, 'colsample_bytree': 0.6631347901954614, 'reg_alpha': 0.6166196930840531, 'reg_lambda': 0.7985027401617709}. Best is trial 3 with value: 23.83445569531724.\n",
      "[I 2025-07-03 10:26:08,130] Trial 45 finished with value: 24.019477633519035 and parameters: {'learning_rate': 0.04600299072271586, 'n_estimators': 208, 'max_depth': 5, 'min_child_weight': 2, 'subsample': 0.7353590349598004, 'colsample_bytree': 0.6993939212562224, 'reg_alpha': 0.8423594380516171, 'reg_lambda': 0.042142513024983064}. Best is trial 3 with value: 23.83445569531724.\n",
      "[I 2025-07-03 10:26:16,029] Trial 46 finished with value: 23.769007141890462 and parameters: {'learning_rate': 0.030664226749495163, 'n_estimators': 233, 'max_depth': 3, 'min_child_weight': 5, 'subsample': 0.6258261052371842, 'colsample_bytree': 0.7228809561160527, 'reg_alpha': 0.764312509527019, 'reg_lambda': 0.9256540943690597}. Best is trial 46 with value: 23.769007141890462.\n",
      "[I 2025-07-03 10:26:23,393] Trial 47 finished with value: 23.8264432921482 and parameters: {'learning_rate': 0.024533018210055713, 'n_estimators': 221, 'max_depth': 3, 'min_child_weight': 7, 'subsample': 0.6262880283743449, 'colsample_bytree': 0.7531877827775275, 'reg_alpha': 0.719641494818581, 'reg_lambda': 0.9436585605356537}. Best is trial 46 with value: 23.769007141890462.\n",
      "[I 2025-07-03 10:26:30,888] Trial 48 finished with value: 24.478545661797956 and parameters: {'learning_rate': 0.10452114650442272, 'n_estimators': 226, 'max_depth': 3, 'min_child_weight': 7, 'subsample': 0.6244971048485194, 'colsample_bytree': 0.6757220368108635, 'reg_alpha': 0.692347644181612, 'reg_lambda': 0.9602689715534105}. Best is trial 46 with value: 23.769007141890462.\n",
      "[I 2025-07-03 10:26:49,215] Trial 49 finished with value: 24.26689785378922 and parameters: {'learning_rate': 0.06396962739091586, 'n_estimators': 299, 'max_depth': 5, 'min_child_weight': 8, 'subsample': 0.6019736894649951, 'colsample_bytree': 0.7776701950431401, 'reg_alpha': 0.6161226828531133, 'reg_lambda': 0.7444691646257275}. Best is trial 46 with value: 23.769007141890462.\n",
      "[I 2025-07-03 10:26:49,216] A new study created in memory with name: no-name-444a75f0-ca00-408a-9d53-7a7948eb0b69\n"
     ]
    },
    {
     "name": "stdout",
     "output_type": "stream",
     "text": [
      "XGBoost done. Best RMSE: 23.7690\n",
      "Starting tuning for CatBoost...\n"
     ]
    },
    {
     "name": "stderr",
     "output_type": "stream",
     "text": [
      "[I 2025-07-03 10:27:15,839] Trial 0 finished with value: 24.60790171372528 and parameters: {'iterations': 265, 'learning_rate': 0.26690871837788627, 'depth': 6, 'l2_leaf_reg': 8.444118558647332, 'random_strength': 0.36557200225251196, 'bagging_temperature': 0.14512946077300615}. Best is trial 0 with value: 24.60790171372528.\n",
      "[I 2025-07-03 10:40:29,900] Trial 1 finished with value: 24.701121093994544 and parameters: {'iterations': 289, 'learning_rate': 0.14667824318600486, 'depth': 10, 'l2_leaf_reg': 2.3665756589609344, 'random_strength': 0.38013428313537434, 'bagging_temperature': 0.2966438653762108}. Best is trial 0 with value: 24.60790171372528.\n",
      "[I 2025-07-03 10:41:37,907] Trial 2 finished with value: 24.119834942557627 and parameters: {'iterations': 161, 'learning_rate': 0.11262177119319657, 'depth': 8, 'l2_leaf_reg': 6.321100655516933, 'random_strength': 0.3337543285598541, 'bagging_temperature': 0.2934481198663178}. Best is trial 2 with value: 24.119834942557627.\n",
      "[I 2025-07-03 10:41:48,139] Trial 3 finished with value: 24.761370546686386 and parameters: {'iterations': 200, 'learning_rate': 0.298612093703428, 'depth': 5, 'l2_leaf_reg': 8.316034147821785, 'random_strength': 0.4156489463401186, 'bagging_temperature': 0.48251434652761227}. Best is trial 2 with value: 24.119834942557627.\n",
      "[I 2025-07-03 10:42:13,968] Trial 4 finished with value: 24.528102376176236 and parameters: {'iterations': 253, 'learning_rate': 0.2432435849038265, 'depth': 6, 'l2_leaf_reg': 8.535738288130245, 'random_strength': 0.32089716257699374, 'bagging_temperature': 0.5879274142607894}. Best is trial 2 with value: 24.119834942557627.\n",
      "[I 2025-07-03 10:45:15,706] Trial 5 finished with value: 24.103035072397184 and parameters: {'iterations': 199, 'learning_rate': 0.02649204517669001, 'depth': 9, 'l2_leaf_reg': 7.050498414771296, 'random_strength': 0.09148912001244836, 'bagging_temperature': 0.1441382424971488}. Best is trial 5 with value: 24.103035072397184.\n",
      "[I 2025-07-03 10:45:25,016] Trial 6 finished with value: 24.64064778509796 and parameters: {'iterations': 186, 'learning_rate': 0.1600642287063537, 'depth': 5, 'l2_leaf_reg': 0.17729052556174407, 'random_strength': 0.8986700730957904, 'bagging_temperature': 0.2654960455852754}. Best is trial 5 with value: 24.103035072397184.\n",
      "[I 2025-07-03 10:45:36,466] Trial 7 finished with value: 24.17914868017927 and parameters: {'iterations': 228, 'learning_rate': 0.14290395984604687, 'depth': 5, 'l2_leaf_reg': 6.754136993204226, 'random_strength': 0.533061472974523, 'bagging_temperature': 0.23814999803067538}. Best is trial 5 with value: 24.103035072397184.\n",
      "[I 2025-07-03 10:46:33,930] Trial 8 finished with value: 24.510100202523454 and parameters: {'iterations': 280, 'learning_rate': 0.22806459603006168, 'depth': 7, 'l2_leaf_reg': 9.88069741571548, 'random_strength': 0.7564075803448542, 'bagging_temperature': 0.29712452208180173}. Best is trial 5 with value: 24.103035072397184.\n",
      "[I 2025-07-03 10:46:36,791] Trial 9 finished with value: 24.470185492211186 and parameters: {'iterations': 148, 'learning_rate': 0.18942188357546016, 'depth': 3, 'l2_leaf_reg': 2.4210422593527534, 'random_strength': 0.6273963023573651, 'bagging_temperature': 0.11368967892052384}. Best is trial 5 with value: 24.103035072397184.\n",
      "[I 2025-07-03 10:49:44,325] Trial 10 finished with value: 25.3434175050712 and parameters: {'iterations': 67, 'learning_rate': 0.012084668391114994, 'depth': 10, 'l2_leaf_reg': 4.0155625662410745, 'random_strength': 0.0044876725956229935, 'bagging_temperature': 0.7487377228984635}. Best is trial 5 with value: 24.103035072397184.\n",
      "[I 2025-07-03 10:50:37,877] Trial 11 finished with value: 23.835103507064254 and parameters: {'iterations': 126, 'learning_rate': 0.049572026603480646, 'depth': 8, 'l2_leaf_reg': 6.435304647361573, 'random_strength': 0.12858508258404738, 'bagging_temperature': 0.006279476285643404}. Best is trial 11 with value: 23.835103507064254.\n",
      "[I 2025-07-03 10:51:15,948] Trial 12 finished with value: 24.441768358236963 and parameters: {'iterations': 90, 'learning_rate': 0.020161640468227802, 'depth': 8, 'l2_leaf_reg': 5.300640021533128, 'random_strength': 0.05360632443064256, 'bagging_temperature': 0.00961689245103461}. Best is trial 11 with value: 23.835103507064254.\n",
      "[I 2025-07-03 10:53:01,298] Trial 13 finished with value: 23.989608305905563 and parameters: {'iterations': 115, 'learning_rate': 0.07088973480101127, 'depth': 9, 'l2_leaf_reg': 7.062468673791914, 'random_strength': 0.16659728827747197, 'bagging_temperature': 0.9081018741269516}. Best is trial 11 with value: 23.835103507064254.\n",
      "[I 2025-07-03 10:53:50,089] Trial 14 finished with value: 23.971592431499225 and parameters: {'iterations': 116, 'learning_rate': 0.0717630346609717, 'depth': 8, 'l2_leaf_reg': 4.471794366588382, 'random_strength': 0.21038269670138088, 'bagging_temperature': 0.9587251805633002}. Best is trial 11 with value: 23.835103507064254.\n",
      "[I 2025-07-03 10:54:40,946] Trial 15 finished with value: 24.0640777259794 and parameters: {'iterations': 121, 'learning_rate': 0.07558218924647456, 'depth': 8, 'l2_leaf_reg': 4.224892002681448, 'random_strength': 0.17889610490262875, 'bagging_temperature': 0.941081145896121}. Best is trial 11 with value: 23.835103507064254.\n",
      "[I 2025-07-03 10:54:52,166] Trial 16 finished with value: 24.09987741988345 and parameters: {'iterations': 51, 'learning_rate': 0.06615653496507613, 'depth': 7, 'l2_leaf_reg': 5.212904816717569, 'random_strength': 0.24397158772263006, 'bagging_temperature': 0.49019907453954975}. Best is trial 11 with value: 23.835103507064254.\n",
      "[I 2025-07-03 10:56:47,653] Trial 17 finished with value: 24.338726924283673 and parameters: {'iterations': 127, 'learning_rate': 0.10153706855354577, 'depth': 9, 'l2_leaf_reg': 2.99116146921179, 'random_strength': 0.5262228304022383, 'bagging_temperature': 0.7511897619908753}. Best is trial 11 with value: 23.835103507064254.\n",
      "[I 2025-07-03 10:56:49,751] Trial 18 finished with value: 23.997324449304934 and parameters: {'iterations': 91, 'learning_rate': 0.05026620337068685, 'depth': 3, 'l2_leaf_reg': 0.9605621976976595, 'random_strength': 0.20936266004609258, 'bagging_temperature': 0.6285533224865125}. Best is trial 11 with value: 23.835103507064254.\n",
      "[I 2025-07-03 10:57:20,264] Trial 19 finished with value: 24.083823373496575 and parameters: {'iterations': 146, 'learning_rate': 0.10440820769664338, 'depth': 7, 'l2_leaf_reg': 6.061710635664454, 'random_strength': 0.10348228985634236, 'bagging_temperature': 0.40742679718239233}. Best is trial 11 with value: 23.835103507064254.\n",
      "[I 2025-07-03 10:57:59,495] Trial 20 finished with value: 24.071678802274857 and parameters: {'iterations': 93, 'learning_rate': 0.045130588910837106, 'depth': 8, 'l2_leaf_reg': 4.1184027245622294, 'random_strength': 0.2691622463209456, 'bagging_temperature': 0.7968690226080699}. Best is trial 11 with value: 23.835103507064254.\n",
      "[I 2025-07-03 10:59:49,174] Trial 21 finished with value: 24.016114767119976 and parameters: {'iterations': 119, 'learning_rate': 0.0818373299372348, 'depth': 9, 'l2_leaf_reg': 7.450290096448277, 'random_strength': 0.15399859797390628, 'bagging_temperature': 0.9707600819104645}. Best is trial 11 with value: 23.835103507064254.\n",
      "[I 2025-07-03 11:01:25,571] Trial 22 finished with value: 24.095227228049545 and parameters: {'iterations': 105, 'learning_rate': 0.050440320604279484, 'depth': 9, 'l2_leaf_reg': 5.643506544443413, 'random_strength': 0.18632649613535143, 'bagging_temperature': 0.8747576734935958}. Best is trial 11 with value: 23.835103507064254.\n",
      "[I 2025-07-03 11:08:01,058] Trial 23 finished with value: 24.09065409906801 and parameters: {'iterations': 142, 'learning_rate': 0.08860511261720919, 'depth': 10, 'l2_leaf_reg': 7.572819461419974, 'random_strength': 0.02081430041787466, 'bagging_temperature': 0.8589057966039064}. Best is trial 11 with value: 23.835103507064254.\n",
      "[I 2025-07-03 11:08:28,890] Trial 24 finished with value: 24.004499845673244 and parameters: {'iterations': 64, 'learning_rate': 0.1262435381038207, 'depth': 8, 'l2_leaf_reg': 4.42043492359387, 'random_strength': 0.46271742971838514, 'bagging_temperature': 0.6929339137400825}. Best is trial 11 with value: 23.835103507064254.\n",
      "[I 2025-07-03 11:11:06,032] Trial 25 finished with value: 24.042311583851603 and parameters: {'iterations': 171, 'learning_rate': 0.04178222136307977, 'depth': 9, 'l2_leaf_reg': 9.990145499251579, 'random_strength': 0.11839262128670718, 'bagging_temperature': 0.999916169292999}. Best is trial 11 with value: 23.835103507064254.\n",
      "[I 2025-07-03 11:11:28,862] Trial 26 finished with value: 24.127312782315396 and parameters: {'iterations': 108, 'learning_rate': 0.17673176179404437, 'depth': 7, 'l2_leaf_reg': 9.014647334080081, 'random_strength': 0.2779435336025905, 'bagging_temperature': 0.8872716051839783}. Best is trial 11 with value: 23.835103507064254.\n",
      "[I 2025-07-03 11:17:32,722] Trial 27 finished with value: 24.2104682506656 and parameters: {'iterations': 133, 'learning_rate': 0.06568950533651337, 'depth': 10, 'l2_leaf_reg': 3.4597944966572003, 'random_strength': 0.9435830499922733, 'bagging_temperature': 0.4130202219275679}. Best is trial 11 with value: 23.835103507064254.\n",
      "[I 2025-07-03 11:18:05,035] Trial 28 finished with value: 24.13356486382462 and parameters: {'iterations': 75, 'learning_rate': 0.12992521446651006, 'depth': 8, 'l2_leaf_reg': 5.81135545979031, 'random_strength': 0.6030976834829315, 'bagging_temperature': 0.5958268319040347}. Best is trial 11 with value: 23.835103507064254.\n",
      "[I 2025-07-03 11:18:21,703] Trial 29 finished with value: 23.87528577792951 and parameters: {'iterations': 161, 'learning_rate': 0.031441840423886876, 'depth': 6, 'l2_leaf_reg': 7.9864864158482956, 'random_strength': 0.2952768684059829, 'bagging_temperature': 0.8161532962651374}. Best is trial 11 with value: 23.835103507064254.\n",
      "[I 2025-07-03 11:18:38,582] Trial 30 finished with value: 23.9600435244022 and parameters: {'iterations': 162, 'learning_rate': 0.02526469408610353, 'depth': 6, 'l2_leaf_reg': 8.076542635895134, 'random_strength': 0.4269666392569679, 'bagging_temperature': 0.004043104764730621}. Best is trial 11 with value: 23.835103507064254.\n",
      "[I 2025-07-03 11:18:55,260] Trial 31 finished with value: 23.873222037395312 and parameters: {'iterations': 162, 'learning_rate': 0.03048444331530603, 'depth': 6, 'l2_leaf_reg': 8.270278087484806, 'random_strength': 0.36576505006893045, 'bagging_temperature': 0.031597726284811396}. Best is trial 11 with value: 23.835103507064254.\n",
      "[I 2025-07-03 11:19:12,278] Trial 32 finished with value: 23.91421048657923 and parameters: {'iterations': 163, 'learning_rate': 0.03004462665835913, 'depth': 6, 'l2_leaf_reg': 8.064277249624109, 'random_strength': 0.4186254892687124, 'bagging_temperature': 0.007502601443625823}. Best is trial 11 with value: 23.835103507064254.\n",
      "[I 2025-07-03 11:19:17,252] Trial 33 finished with value: 23.8171202218326 and parameters: {'iterations': 186, 'learning_rate': 0.03403398766669219, 'depth': 4, 'l2_leaf_reg': 9.01841543048414, 'random_strength': 0.3625832785578792, 'bagging_temperature': 0.07020198348121007}. Best is trial 33 with value: 23.8171202218326.\n",
      "[I 2025-07-03 11:19:23,214] Trial 34 finished with value: 23.78773399368324 and parameters: {'iterations': 217, 'learning_rate': 0.03842275163191608, 'depth': 4, 'l2_leaf_reg': 9.202011042426664, 'random_strength': 0.3422429863818332, 'bagging_temperature': 0.07618785834694927}. Best is trial 34 with value: 23.78773399368324.\n",
      "[I 2025-07-03 11:19:29,192] Trial 35 finished with value: 24.211474537905683 and parameters: {'iterations': 227, 'learning_rate': 0.010978358539344701, 'depth': 4, 'l2_leaf_reg': 9.294868316782107, 'random_strength': 0.3757378959792729, 'bagging_temperature': 0.08331658042918988}. Best is trial 34 with value: 23.78773399368324.\n",
      "[I 2025-07-03 11:19:34,928] Trial 36 finished with value: 23.77886534576599 and parameters: {'iterations': 218, 'learning_rate': 0.05265253618513767, 'depth': 4, 'l2_leaf_reg': 8.93002210255738, 'random_strength': 0.3438871237270355, 'bagging_temperature': 0.1754839135454048}. Best is trial 36 with value: 23.77886534576599.\n",
      "[I 2025-07-03 11:19:41,245] Trial 37 finished with value: 23.824834876251646 and parameters: {'iterations': 234, 'learning_rate': 0.05570223837425754, 'depth': 4, 'l2_leaf_reg': 9.024278891336452, 'random_strength': 0.33352785873390034, 'bagging_temperature': 0.18542211275986326}. Best is trial 36 with value: 23.77886534576599.\n",
      "[I 2025-07-03 11:19:47,357] Trial 38 finished with value: 23.903660439292025 and parameters: {'iterations': 233, 'learning_rate': 0.10010928140132756, 'depth': 4, 'l2_leaf_reg': 9.19755595936732, 'random_strength': 0.4736834097765168, 'bagging_temperature': 0.18901993610431655}. Best is trial 36 with value: 23.77886534576599.\n",
      "[I 2025-07-03 11:19:52,912] Trial 39 finished with value: 24.55466090780852 and parameters: {'iterations': 204, 'learning_rate': 0.209792051808863, 'depth': 4, 'l2_leaf_reg': 8.966720571778538, 'random_strength': 0.3388593820957181, 'bagging_temperature': 0.18598185883834442}. Best is trial 36 with value: 23.77886534576599.\n",
      "[I 2025-07-03 11:19:59,408] Trial 40 finished with value: 23.902933795257734 and parameters: {'iterations': 252, 'learning_rate': 0.11811569881582207, 'depth': 4, 'l2_leaf_reg': 9.663520178465824, 'random_strength': 0.5834895622472094, 'bagging_temperature': 0.32197871208682216}. Best is trial 36 with value: 23.77886534576599.\n",
      "[I 2025-07-03 11:20:10,330] Trial 41 finished with value: 23.633450954352877 and parameters: {'iterations': 215, 'learning_rate': 0.05733482868259388, 'depth': 5, 'l2_leaf_reg': 8.68935049650277, 'random_strength': 0.3433057642061074, 'bagging_temperature': 0.07576004983288338}. Best is trial 41 with value: 23.633450954352877.\n",
      "[I 2025-07-03 11:20:20,802] Trial 42 finished with value: 23.794554537979327 and parameters: {'iterations': 211, 'learning_rate': 0.059742367673466176, 'depth': 5, 'l2_leaf_reg': 8.679582161351611, 'random_strength': 0.3266107945021686, 'bagging_temperature': 0.0851639723729399}. Best is trial 41 with value: 23.633450954352877.\n",
      "[I 2025-07-03 11:20:31,594] Trial 43 finished with value: 23.818589424996972 and parameters: {'iterations': 215, 'learning_rate': 0.0371471090821715, 'depth': 5, 'l2_leaf_reg': 8.656458233023745, 'random_strength': 0.41096576059050155, 'bagging_temperature': 0.08120665671964934}. Best is trial 41 with value: 23.633450954352877.\n",
      "[I 2025-07-03 11:20:41,025] Trial 44 finished with value: 24.88323229536627 and parameters: {'iterations': 190, 'learning_rate': 0.2734150563718343, 'depth': 5, 'l2_leaf_reg': 8.563697654301837, 'random_strength': 0.3208346675303457, 'bagging_temperature': 0.11146832765495782}. Best is trial 41 with value: 23.633450954352877.\n",
      "[I 2025-07-03 11:20:44,729] Trial 45 finished with value: 23.871987911099005 and parameters: {'iterations': 215, 'learning_rate': 0.06025279375722621, 'depth': 3, 'l2_leaf_reg': 9.475934959795534, 'random_strength': 0.24693110741690627, 'bagging_temperature': 0.05882059598831469}. Best is trial 41 with value: 23.633450954352877.\n",
      "[I 2025-07-03 11:20:57,084] Trial 46 finished with value: 23.837181686944536 and parameters: {'iterations': 251, 'learning_rate': 0.08271136184698545, 'depth': 5, 'l2_leaf_reg': 7.547589664514355, 'random_strength': 0.7134108992929189, 'bagging_temperature': 0.14262749624434495}. Best is trial 41 with value: 23.633450954352877.\n",
      "[I 2025-07-03 11:21:00,338] Trial 47 finished with value: 24.148469227348805 and parameters: {'iterations': 180, 'learning_rate': 0.017422969327672004, 'depth': 3, 'l2_leaf_reg': 7.093884886346464, 'random_strength': 0.485043381573656, 'bagging_temperature': 0.3437217130665477}. Best is trial 41 with value: 23.633450954352877.\n",
      "[I 2025-07-03 11:21:07,611] Trial 48 finished with value: 23.895225084586393 and parameters: {'iterations': 270, 'learning_rate': 0.09163382333350951, 'depth': 4, 'l2_leaf_reg': 8.645428284502962, 'random_strength': 0.3785270211352937, 'bagging_temperature': 0.22745148582132055}. Best is trial 41 with value: 23.633450954352877.\n",
      "[I 2025-07-03 11:21:17,272] Trial 49 finished with value: 24.226955571945982 and parameters: {'iterations': 194, 'learning_rate': 0.15362846551657394, 'depth': 5, 'l2_leaf_reg': 9.640025986438097, 'random_strength': 0.5417023872022183, 'bagging_temperature': 0.12972710646125346}. Best is trial 41 with value: 23.633450954352877.\n"
     ]
    },
    {
     "name": "stdout",
     "output_type": "stream",
     "text": [
      "CatBoost done. Best RMSE: 23.6335\n"
     ]
    }
   ],
   "source": [
    "models = {\n",
    "    'LightGBM': tune_lgbm,\n",
    "    'XGBoost': tune_xgboost,\n",
    "    'CatBoost': tune_catboost\n",
    "}\n",
    "\n",
    "study_results = {}\n",
    "for name, objective in models.items():\n",
    "    print(f\"Starting tuning for {name}...\")\n",
    "    study = optuna.create_study(direction=\"minimize\")\n",
    "    study.optimize(objective, n_trials=50)\n",
    "    study_results[name] = {\n",
    "        'best_score': study.best_value,\n",
    "        'best_params': study.best_params\n",
    "    }\n",
    "    print(f\"{name} done. Best RMSE: {study.best_value:.4f}\")"
   ]
  },
  {
   "cell_type": "code",
   "execution_count": 11,
   "id": "9a06d3fe",
   "metadata": {},
   "outputs": [],
   "source": [
    "def get_model(name, params):\n",
    "    if name == \"LightGBM\":\n",
    "        import lightgbm as lgb\n",
    "        return lgb.LGBMRegressor(**params)\n",
    "    elif name == \"XGBoost\":\n",
    "        import xgboost as xgb\n",
    "        return xgb.XGBRegressor(**params)\n",
    "    elif name == \"CatBoost\":\n",
    "        from catboost import CatBoostRegressor\n",
    "        return CatBoostRegressor(verbose=0, **params)\n",
    "    else:\n",
    "        raise ValueError(f\"Unknown model name: {name}\")\n",
    "\n",
    "model_names = []\n",
    "rmse_scores = []\n",
    "\n",
    "for name, res in study_results.items():\n",
    "    model = get_model(name, res['best_params'])\n",
    "    scores = cross_val_score(model, X, y, cv=cv, scoring='neg_root_mean_squared_error')\n",
    "    mean_rmse = -scores.mean()\n",
    "    model_names.append(name)\n",
    "    rmse_scores.append(mean_rmse)"
   ]
  },
  {
   "cell_type": "code",
   "execution_count": 12,
   "id": "75d9fe5c",
   "metadata": {},
   "outputs": [
    {
     "data": {
      "image/png": "[encoded data removed]",
      "text/plain": [
       "<Figure size 1000x600 with 1 Axes>"
      ]
     },
     "metadata": {},
     "output_type": "display_data"
    }
   ],
   "source": [
    "plt.figure(figsize=(10, 6))\n",
    "bars = plt.bar(model_names, rmse_scores, color='skyblue')\n",
    "plt.ylabel(\"RMSE\")\n",
    "plt.title(\"5-Fold CV RMSE Comparison (Boosting Models)\")\n",
    "\n",
    "for bar, rmse in zip(bars, rmse_scores):\n",
    "    yval = bar.get_height()\n",
    "    plt.text(bar.get_x() + bar.get_width()/2, yval + 0.005, f\"{rmse:.4f}\", ha='center', va='bottom')\n",
    "\n",
    "plt.ylim(0, max(rmse_scores)*1.1)\n",
    "plt.show()"
   ]
  },
  {
   "cell_type": "code",
   "execution_count": 14,
   "id": "37b27a76",
   "metadata": {},
   "outputs": [
    {
     "name": "stdout",
     "output_type": "stream",
     "text": [
      "LightGBM - Train RMSE: 18.5768\n",
      "XGBoost - Train RMSE: 17.3602\n",
      "CatBoost - Train RMSE: 16.3618\n"
     ]
    }
   ],
   "source": [
    "total_train_results = {}\n",
    "for name, res in study_results.items():\n",
    "    model = get_model(name, res['best_params'])\n",
    "    model.fit(X, y)\n",
    "    y_pred = model.predict(X)\n",
    "    mse = mean_squared_error(y, y_pred)\n",
    "    rmse = np.sqrt(mse)\n",
    "    total_train_results[name] = rmse\n",
    "    print(f\"{name} - Train RMSE: {rmse:.4f}\")"
   ]
  },
  {
   "cell_type": "code",
   "execution_count": null,
   "id": "7122a2ad",
   "metadata": {},
   "outputs": [],
   "source": []
  }
 ],
 "metadata": {
  "kernelspec": {
   "display_name": "boost_env",
   "language": "python",
   "name": "python3"
  },
  "language_info": {
   "codemirror_mode": {
    "name": "ipython",
    "version": 3
   },
   "file_extension": ".py",
   "mimetype": "text/x-python",
   "name": "python",
   "nbconvert_exporter": "python",
   "pygments_lexer": "ipython3",
   "version": "3.10.18"
  }
 },
 "nbformat": 4,
 "nbformat_minor": 5
}
