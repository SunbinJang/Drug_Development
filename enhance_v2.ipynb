{
 "cells": [
  {
   "cell_type": "code",
   "execution_count": null,
   "id": "2efd5377",
   "metadata": {},
   "outputs": [],
   "source": [
    "#0.6836\n",
    "\n",
    "import numpy as np\n",
    "import pandas as pd\n",
    "import xgboost as xgb\n",
    "from rdkit import Chem\n",
    "from rdkit.Chem import AllChem, Descriptors, rdFingerprintGenerator\n",
    "from sklearn.preprocessing import StandardScaler\n",
    "from sklearn.model_selection import GridSearchCV, cross_val_score, KFold"
   ]
  },
  {
   "cell_type": "code",
   "execution_count": 2,
   "id": "2f711cf3",
   "metadata": {},
   "outputs": [],
   "source": [
    "def extract_rdkit_features(smiles):\n",
    "    mol = Chem.MolFromSmiles(smiles)\n",
    "    if mol is None:\n",
    "        return [0] * 11\n",
    "    try:\n",
    "        return [\n",
    "Descriptors.MolWt(mol),               # 분자량\n",
    "Descriptors.MolLogP(mol),             # 소수성 (logP)\n",
    "Descriptors.TPSA(mol),                # 극성 표면적\n",
    "Descriptors.NumHDonors(mol),          # 수소 결합 donor 수\n",
    "Descriptors.NumHAcceptors(mol),       # 수소 결합 acceptor 수\n",
    "Descriptors.NumRotatableBonds(mol),   # 회전 가능한 결합 수\n",
    "Descriptors.FractionCSP3(mol),        # sp3 탄소 비율\n",
    "Descriptors.RingCount(mol),           # 고리 수\n",
    "Descriptors.HeavyAtomCount(mol),      # 수소 제외 원자 수\n",
    "Descriptors.MolMR(mol),               # 몰 굴절률 (Molar Refractivity)\n",
    "Descriptors.NumValenceElectrons(mol), # 원자가 전자 수\n",
    "Descriptors.NumHeteroatoms(mol),      # 이종 원자 수 (C, H 제외한 원자들)\n",
    "Descriptors.MaxPartialCharge(mol)     # 최대 부분 전하\n",
    "        ]\n",
    "    except:\n",
    "        return [0] * 11\n",
    "\n",
    "morgan_generator = rdFingerprintGenerator.GetMorganGenerator(radius=2, fpSize=2048)\n",
    "\n",
    "def morgan_fp(smiles, generator=morgan_generator):\n",
    "    mol = Chem.MolFromSmiles(smiles)\n",
    "    if mol is None:\n",
    "        return np.zeros(generator.GetNumBits())\n",
    "    return np.array(generator.GetFingerprint(mol))"
   ]
  },
  {
   "cell_type": "code",
   "execution_count": 3,
   "id": "2750c420",
   "metadata": {},
   "outputs": [],
   "source": [
    "train = pd.read_csv(\"data/train.csv\")\n",
    "train = train[['Canonical_Smiles', 'Inhibition']]\n",
    "\n",
    "train['RDKit_Features'] = train['Canonical_Smiles'].apply(extract_rdkit_features)\n",
    "train['Morgan_FP'] = train['Canonical_Smiles'].apply(morgan_fp)\n",
    "\n",
    "rdkit_feat = np.stack(train['RDKit_Features'].values)\n",
    "morgan_feat = np.stack(train['Morgan_FP'].values)\n",
    "train_x = np.hstack((rdkit_feat, morgan_feat))\n",
    "train_y = train['Inhibition'].astype(float).values"
   ]
  },
  {
   "cell_type": "code",
   "execution_count": 4,
   "id": "462003b2",
   "metadata": {},
   "outputs": [],
   "source": [
    "scaler = StandardScaler()\n",
    "train_x_scaled = scaler.fit_transform(train_x)"
   ]
  },
  {
   "cell_type": "code",
   "execution_count": 5,
   "id": "cfc56bde",
   "metadata": {},
   "outputs": [],
   "source": [
    "param_grid = {\n",
    "    'max_depth': [3, 5, 7],\n",
    "    'learning_rate': [0.01, 0.1, 0.2],\n",
    "    'n_estimators': [100, 200, 300],\n",
    "    'subsample': [0.8, 1.0],\n",
    "    'colsample_bytree': [0.8, 1.0],\n",
    "    'reg_alpha': [0, 0.1, 1],\n",
    "    'reg_lambda': [0, 0.1, 1]\n",
    "}\n",
    "\n",
    "xgb_model = xgb.XGBRegressor(random_state=42, verbosity=0, tree_method='gpu_hist', gpu_id=0, predictor='gpu_predictor')"
   ]
  },
  {
   "cell_type": "code",
   "execution_count": 6,
   "id": "484b456a",
   "metadata": {},
   "outputs": [
    {
     "name": "stdout",
     "output_type": "stream",
     "text": [
      "Fitting 3 folds for each of 972 candidates, totalling 2916 fits\n",
      "Best parameters found:  {'colsample_bytree': 1.0, 'learning_rate': 0.01, 'max_depth': 5, 'n_estimators': 300, 'reg_alpha': 1, 'reg_lambda': 1, 'subsample': 0.8}\n"
     ]
    }
   ],
   "source": [
    "grid = GridSearchCV(xgb_model, param_grid, cv=3, scoring='neg_root_mean_squared_error', verbose=1)\n",
    "grid.fit(train_x_scaled, train_y)\n",
    "\n",
    "best_model = grid.best_estimator_\n",
    "print(\"Best parameters found: \", grid.best_params_)"
   ]
  },
  {
   "cell_type": "code",
   "execution_count": 7,
   "id": "7093fda7",
   "metadata": {},
   "outputs": [
    {
     "name": "stdout",
     "output_type": "stream",
     "text": [
      "Cross-validated RMSE:  23.86899250107938\n"
     ]
    }
   ],
   "source": [
    "cv = KFold(n_splits=5, shuffle=True, random_state=42)\n",
    "scores = cross_val_score(best_model, train_x_scaled, train_y, cv=cv, scoring='neg_root_mean_squared_error')\n",
    "print(\"Cross-validated RMSE: \", -np.mean(scores))"
   ]
  },
  {
   "cell_type": "code",
   "execution_count": 8,
   "id": "7832c485",
   "metadata": {},
   "outputs": [],
   "source": [
    "test = pd.read_csv(\"data/test.csv\")\n",
    "test = test[['ID', 'Canonical_Smiles']]\n",
    "test['RDKit_Features'] = test['Canonical_Smiles'].apply(extract_rdkit_features)\n",
    "test['MorganFP'] = test['Canonical_Smiles'].apply(morgan_fp)\n",
    "\n",
    "test_rdkit_feat = np.stack(test['RDKit_Features'].values)\n",
    "test_morgan_feat = np.stack(test['MorganFP'].values)\n",
    "test_x = np.hstack([test_rdkit_feat, test_morgan_feat])\n",
    "test_x_scaled = scaler.transform(test_x)"
   ]
  },
  {
   "cell_type": "code",
   "execution_count": 9,
   "id": "ab7d9265",
   "metadata": {},
   "outputs": [],
   "source": [
    "test_pred = best_model.predict(test_x_scaled)"
   ]
  },
  {
   "cell_type": "code",
   "execution_count": 10,
   "id": "8e9c85d2",
   "metadata": {},
   "outputs": [
    {
     "name": "stdout",
     "output_type": "stream",
     "text": [
      "Submission saved to 'enhance_v2_submit.csv'\n"
     ]
    }
   ],
   "source": [
    "submit = pd.read_csv(\"data/sample_submission.csv\")\n",
    "submit['Inhibition'] = test_pred\n",
    "submit.to_csv(\"enhance_v2_submit.csv\", index=False)\n",
    "print(\"Submission saved to 'enhance_v2_submit.csv'\")"
   ]
  },
  {
   "cell_type": "code",
   "execution_count": null,
   "id": "b0314f79",
   "metadata": {},
   "outputs": [],
   "source": []
  }
 ],
 "metadata": {
  "kernelspec": {
   "display_name": "dacon",
   "language": "python",
   "name": "python3"
  },
  "language_info": {
   "codemirror_mode": {
    "name": "ipython",
    "version": 3
   },
   "file_extension": ".py",
   "mimetype": "text/x-python",
   "name": "python",
   "nbconvert_exporter": "python",
   "pygments_lexer": "ipython3",
   "version": "3.12.9"
  }
 },
 "nbformat": 4,
 "nbformat_minor": 5
}
